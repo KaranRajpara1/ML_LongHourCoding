{
  "nbformat": 4,
  "nbformat_minor": 0,
  "metadata": {
    "colab": {
      "name": "13_LHC_Q1.ipynb",
      "provenance": [],
      "collapsed_sections": []
    },
    "kernelspec": {
      "name": "python3",
      "display_name": "Python 3"
    },
    "language_info": {
      "name": "python"
    }
  },
  "cells": [
    {
      "cell_type": "markdown",
      "source": [
        "Question 1:\n",
        "Determine the Number of Tags Per Question"
      ],
      "metadata": {
        "id": "ZmHyM4qJ4HwM"
      }
    },
    {
      "cell_type": "code",
      "execution_count": 1,
      "metadata": {
        "id": "qrI1QYxx3dsY"
      },
      "outputs": [],
      "source": [
        "import pandas as pd\n",
        "import numpy as np\n",
        "import matplotlib.pyplot as plt\n",
        "from matplotlib import colors\n",
        "from matplotlib.ticker import PercentFormatter"
      ]
    },
    {
      "cell_type": "code",
      "source": [
        "from google.colab import drive"
      ],
      "metadata": {
        "id": "XCO1bnB_4jET"
      },
      "execution_count": 2,
      "outputs": []
    },
    {
      "cell_type": "code",
      "source": [
        "drive.mount('/content/drive/')"
      ],
      "metadata": {
        "id": "XV7z9lxf6b5t"
      },
      "execution_count": null,
      "outputs": []
    },
    {
      "cell_type": "code",
      "source": [
        "cd \"/content/drive/MyDrive/MachineLearning_LHC/Arjun_Assignment_data/dataset\""
      ],
      "metadata": {
        "colab": {
          "base_uri": "https://localhost:8080/"
        },
        "id": "HfAZxSea4kmh",
        "outputId": "9584f099-1146-4a23-9108-e23003e0bb37"
      },
      "execution_count": 13,
      "outputs": [
        {
          "output_type": "stream",
          "name": "stdout",
          "text": [
            "/content/drive/MyDrive/MachineLearning_LHC/Arjun_Assignment_data/dataset\n"
          ]
        }
      ]
    },
    {
      "cell_type": "code",
      "source": [
        "ls"
      ],
      "metadata": {
        "colab": {
          "base_uri": "https://localhost:8080/"
        },
        "id": "O3ZJckyT4luL",
        "outputId": "6ef1a288-dacc-4417-c0b2-aab61b010679"
      },
      "execution_count": 6,
      "outputs": [
        {
          "output_type": "stream",
          "name": "stdout",
          "text": [
            "post_history.csv  postLinks.json  posts_long.json  users.csv\n",
            "postLinks.csv     posts_long.csv  posts_short.csv\n"
          ]
        }
      ]
    },
    {
      "cell_type": "code",
      "source": [
        "dataset5 = pd.read_csv('posts_short.csv')\n",
        "dataset5.describe()"
      ],
      "metadata": {
        "colab": {
          "base_uri": "https://localhost:8080/",
          "height": 335
        },
        "id": "YBlqqxU744OA",
        "outputId": "1da7509c-c438-4930-d4c0-522bd877b37b"
      },
      "execution_count": 7,
      "outputs": [
        {
          "output_type": "stream",
          "name": "stderr",
          "text": [
            "/usr/local/lib/python3.7/dist-packages/IPython/core/interactiveshell.py:2882: DtypeWarning: Columns (13) have mixed types.Specify dtype option on import or set low_memory=False.\n",
            "  exec(code_obj, self.user_global_ns, self.user_ns)\n"
          ]
        },
        {
          "output_type": "execute_result",
          "data": {
            "text/plain": [
              "          Unnamed: 0            id  post_type_id  accepted_answer_id  \\\n",
              "count  676204.000000  6.762040e+05      676204.0        6.762040e+05   \n",
              "mean   338101.500000  2.584291e+07           1.0        1.166794e+07   \n",
              "std    195203.425051  1.586292e+07           0.0        1.531875e+07   \n",
              "min         0.000000  4.000000e+00           1.0       -9.990000e+02   \n",
              "25%    169050.750000  1.170959e+07           1.0       -9.990000e+02   \n",
              "50%    338101.500000  2.566376e+07           1.0        2.574750e+06   \n",
              "75%    507152.250000  3.999613e+07           1.0        2.095320e+07   \n",
              "max    676203.000000  5.213412e+07           1.0        5.213268e+07   \n",
              "\n",
              "       parent_id          score    view_count  owner_user_id   answer_count  \\\n",
              "count   676204.0  676204.000000  6.762040e+05   6.762040e+05  676204.000000   \n",
              "mean      -999.0      14.731906  1.549030e+04   2.891993e+06       2.415215   \n",
              "std          0.0      97.924320  7.056748e+04   2.703980e+06       3.403235   \n",
              "min       -999.0    -146.000000  3.000000e+00  -9.990000e+02       0.000000   \n",
              "25%       -999.0       0.000000  6.400000e+01   6.399082e+05       1.000000   \n",
              "50%       -999.0       1.000000  4.880000e+02   1.952811e+06       2.000000   \n",
              "75%       -999.0       5.000000  5.694000e+03   4.648680e+06       3.000000   \n",
              "max       -999.0   21775.000000  6.842435e+06   1.030524e+07     518.000000   \n",
              "\n",
              "       comment_count  favorite_count  \n",
              "count  676204.000000   676204.000000  \n",
              "mean        2.547613        5.042214  \n",
              "std         2.914937       44.758421  \n",
              "min         0.000000        0.000000  \n",
              "25%         0.000000        0.000000  \n",
              "50%         2.000000        0.000000  \n",
              "75%         4.000000        1.000000  \n",
              "max        70.000000     9977.000000  "
            ],
            "text/html": [
              "\n",
              "  <div id=\"df-83b347a0-a298-4b26-9b45-0694191a215d\">\n",
              "    <div class=\"colab-df-container\">\n",
              "      <div>\n",
              "<style scoped>\n",
              "    .dataframe tbody tr th:only-of-type {\n",
              "        vertical-align: middle;\n",
              "    }\n",
              "\n",
              "    .dataframe tbody tr th {\n",
              "        vertical-align: top;\n",
              "    }\n",
              "\n",
              "    .dataframe thead th {\n",
              "        text-align: right;\n",
              "    }\n",
              "</style>\n",
              "<table border=\"1\" class=\"dataframe\">\n",
              "  <thead>\n",
              "    <tr style=\"text-align: right;\">\n",
              "      <th></th>\n",
              "      <th>Unnamed: 0</th>\n",
              "      <th>id</th>\n",
              "      <th>post_type_id</th>\n",
              "      <th>accepted_answer_id</th>\n",
              "      <th>parent_id</th>\n",
              "      <th>score</th>\n",
              "      <th>view_count</th>\n",
              "      <th>owner_user_id</th>\n",
              "      <th>answer_count</th>\n",
              "      <th>comment_count</th>\n",
              "      <th>favorite_count</th>\n",
              "    </tr>\n",
              "  </thead>\n",
              "  <tbody>\n",
              "    <tr>\n",
              "      <th>count</th>\n",
              "      <td>676204.000000</td>\n",
              "      <td>6.762040e+05</td>\n",
              "      <td>676204.0</td>\n",
              "      <td>6.762040e+05</td>\n",
              "      <td>676204.0</td>\n",
              "      <td>676204.000000</td>\n",
              "      <td>6.762040e+05</td>\n",
              "      <td>6.762040e+05</td>\n",
              "      <td>676204.000000</td>\n",
              "      <td>676204.000000</td>\n",
              "      <td>676204.000000</td>\n",
              "    </tr>\n",
              "    <tr>\n",
              "      <th>mean</th>\n",
              "      <td>338101.500000</td>\n",
              "      <td>2.584291e+07</td>\n",
              "      <td>1.0</td>\n",
              "      <td>1.166794e+07</td>\n",
              "      <td>-999.0</td>\n",
              "      <td>14.731906</td>\n",
              "      <td>1.549030e+04</td>\n",
              "      <td>2.891993e+06</td>\n",
              "      <td>2.415215</td>\n",
              "      <td>2.547613</td>\n",
              "      <td>5.042214</td>\n",
              "    </tr>\n",
              "    <tr>\n",
              "      <th>std</th>\n",
              "      <td>195203.425051</td>\n",
              "      <td>1.586292e+07</td>\n",
              "      <td>0.0</td>\n",
              "      <td>1.531875e+07</td>\n",
              "      <td>0.0</td>\n",
              "      <td>97.924320</td>\n",
              "      <td>7.056748e+04</td>\n",
              "      <td>2.703980e+06</td>\n",
              "      <td>3.403235</td>\n",
              "      <td>2.914937</td>\n",
              "      <td>44.758421</td>\n",
              "    </tr>\n",
              "    <tr>\n",
              "      <th>min</th>\n",
              "      <td>0.000000</td>\n",
              "      <td>4.000000e+00</td>\n",
              "      <td>1.0</td>\n",
              "      <td>-9.990000e+02</td>\n",
              "      <td>-999.0</td>\n",
              "      <td>-146.000000</td>\n",
              "      <td>3.000000e+00</td>\n",
              "      <td>-9.990000e+02</td>\n",
              "      <td>0.000000</td>\n",
              "      <td>0.000000</td>\n",
              "      <td>0.000000</td>\n",
              "    </tr>\n",
              "    <tr>\n",
              "      <th>25%</th>\n",
              "      <td>169050.750000</td>\n",
              "      <td>1.170959e+07</td>\n",
              "      <td>1.0</td>\n",
              "      <td>-9.990000e+02</td>\n",
              "      <td>-999.0</td>\n",
              "      <td>0.000000</td>\n",
              "      <td>6.400000e+01</td>\n",
              "      <td>6.399082e+05</td>\n",
              "      <td>1.000000</td>\n",
              "      <td>0.000000</td>\n",
              "      <td>0.000000</td>\n",
              "    </tr>\n",
              "    <tr>\n",
              "      <th>50%</th>\n",
              "      <td>338101.500000</td>\n",
              "      <td>2.566376e+07</td>\n",
              "      <td>1.0</td>\n",
              "      <td>2.574750e+06</td>\n",
              "      <td>-999.0</td>\n",
              "      <td>1.000000</td>\n",
              "      <td>4.880000e+02</td>\n",
              "      <td>1.952811e+06</td>\n",
              "      <td>2.000000</td>\n",
              "      <td>2.000000</td>\n",
              "      <td>0.000000</td>\n",
              "    </tr>\n",
              "    <tr>\n",
              "      <th>75%</th>\n",
              "      <td>507152.250000</td>\n",
              "      <td>3.999613e+07</td>\n",
              "      <td>1.0</td>\n",
              "      <td>2.095320e+07</td>\n",
              "      <td>-999.0</td>\n",
              "      <td>5.000000</td>\n",
              "      <td>5.694000e+03</td>\n",
              "      <td>4.648680e+06</td>\n",
              "      <td>3.000000</td>\n",
              "      <td>4.000000</td>\n",
              "      <td>1.000000</td>\n",
              "    </tr>\n",
              "    <tr>\n",
              "      <th>max</th>\n",
              "      <td>676203.000000</td>\n",
              "      <td>5.213412e+07</td>\n",
              "      <td>1.0</td>\n",
              "      <td>5.213268e+07</td>\n",
              "      <td>-999.0</td>\n",
              "      <td>21775.000000</td>\n",
              "      <td>6.842435e+06</td>\n",
              "      <td>1.030524e+07</td>\n",
              "      <td>518.000000</td>\n",
              "      <td>70.000000</td>\n",
              "      <td>9977.000000</td>\n",
              "    </tr>\n",
              "  </tbody>\n",
              "</table>\n",
              "</div>\n",
              "      <button class=\"colab-df-convert\" onclick=\"convertToInteractive('df-83b347a0-a298-4b26-9b45-0694191a215d')\"\n",
              "              title=\"Convert this dataframe to an interactive table.\"\n",
              "              style=\"display:none;\">\n",
              "        \n",
              "  <svg xmlns=\"http://www.w3.org/2000/svg\" height=\"24px\"viewBox=\"0 0 24 24\"\n",
              "       width=\"24px\">\n",
              "    <path d=\"M0 0h24v24H0V0z\" fill=\"none\"/>\n",
              "    <path d=\"M18.56 5.44l.94 2.06.94-2.06 2.06-.94-2.06-.94-.94-2.06-.94 2.06-2.06.94zm-11 1L8.5 8.5l.94-2.06 2.06-.94-2.06-.94L8.5 2.5l-.94 2.06-2.06.94zm10 10l.94 2.06.94-2.06 2.06-.94-2.06-.94-.94-2.06-.94 2.06-2.06.94z\"/><path d=\"M17.41 7.96l-1.37-1.37c-.4-.4-.92-.59-1.43-.59-.52 0-1.04.2-1.43.59L10.3 9.45l-7.72 7.72c-.78.78-.78 2.05 0 2.83L4 21.41c.39.39.9.59 1.41.59.51 0 1.02-.2 1.41-.59l7.78-7.78 2.81-2.81c.8-.78.8-2.07 0-2.86zM5.41 20L4 18.59l7.72-7.72 1.47 1.35L5.41 20z\"/>\n",
              "  </svg>\n",
              "      </button>\n",
              "      \n",
              "  <style>\n",
              "    .colab-df-container {\n",
              "      display:flex;\n",
              "      flex-wrap:wrap;\n",
              "      gap: 12px;\n",
              "    }\n",
              "\n",
              "    .colab-df-convert {\n",
              "      background-color: #E8F0FE;\n",
              "      border: none;\n",
              "      border-radius: 50%;\n",
              "      cursor: pointer;\n",
              "      display: none;\n",
              "      fill: #1967D2;\n",
              "      height: 32px;\n",
              "      padding: 0 0 0 0;\n",
              "      width: 32px;\n",
              "    }\n",
              "\n",
              "    .colab-df-convert:hover {\n",
              "      background-color: #E2EBFA;\n",
              "      box-shadow: 0px 1px 2px rgba(60, 64, 67, 0.3), 0px 1px 3px 1px rgba(60, 64, 67, 0.15);\n",
              "      fill: #174EA6;\n",
              "    }\n",
              "\n",
              "    [theme=dark] .colab-df-convert {\n",
              "      background-color: #3B4455;\n",
              "      fill: #D2E3FC;\n",
              "    }\n",
              "\n",
              "    [theme=dark] .colab-df-convert:hover {\n",
              "      background-color: #434B5C;\n",
              "      box-shadow: 0px 1px 3px 1px rgba(0, 0, 0, 0.15);\n",
              "      filter: drop-shadow(0px 1px 2px rgba(0, 0, 0, 0.3));\n",
              "      fill: #FFFFFF;\n",
              "    }\n",
              "  </style>\n",
              "\n",
              "      <script>\n",
              "        const buttonEl =\n",
              "          document.querySelector('#df-83b347a0-a298-4b26-9b45-0694191a215d button.colab-df-convert');\n",
              "        buttonEl.style.display =\n",
              "          google.colab.kernel.accessAllowed ? 'block' : 'none';\n",
              "\n",
              "        async function convertToInteractive(key) {\n",
              "          const element = document.querySelector('#df-83b347a0-a298-4b26-9b45-0694191a215d');\n",
              "          const dataTable =\n",
              "            await google.colab.kernel.invokeFunction('convertToInteractive',\n",
              "                                                     [key], {});\n",
              "          if (!dataTable) return;\n",
              "\n",
              "          const docLinkHtml = 'Like what you see? Visit the ' +\n",
              "            '<a target=\"_blank\" href=https://colab.research.google.com/notebooks/data_table.ipynb>data table notebook</a>'\n",
              "            + ' to learn more about interactive tables.';\n",
              "          element.innerHTML = '';\n",
              "          dataTable['output_type'] = 'display_data';\n",
              "          await google.colab.output.renderOutput(dataTable, element);\n",
              "          const docLink = document.createElement('div');\n",
              "          docLink.innerHTML = docLinkHtml;\n",
              "          element.appendChild(docLink);\n",
              "        }\n",
              "      </script>\n",
              "    </div>\n",
              "  </div>\n",
              "  "
            ]
          },
          "metadata": {},
          "execution_count": 7
        }
      ]
    },
    {
      "cell_type": "code",
      "source": [
        "dataset5.head(5)"
      ],
      "metadata": {
        "colab": {
          "base_uri": "https://localhost:8080/",
          "height": 634
        },
        "id": "_jxF6Bkn5GcA",
        "outputId": "11ef7fc1-2b5e-4884-b8c7-117a5407479b"
      },
      "execution_count": 9,
      "outputs": [
        {
          "output_type": "execute_result",
          "data": {
            "text/plain": [
              "   Unnamed: 0  id  post_type_id  accepted_answer_id  parent_id  \\\n",
              "0           0   4             1                   7       -999   \n",
              "1           1   6             1                  31       -999   \n",
              "2           2   9             1                1404       -999   \n",
              "3           3  11             1                1248       -999   \n",
              "4           4  13             1                -999       -999   \n",
              "\n",
              "             creation_date  score  view_count  owner_user_id  \\\n",
              "0  2008-07-31T21:42:52.667    573       37080              8   \n",
              "1  2008-07-31T22:08:08.620    256       16306              9   \n",
              "2  2008-07-31T23:40:59.743   1743      480476              1   \n",
              "3  2008-07-31T23:55:37.967   1348      136033              1   \n",
              "4  2008-08-01T00:42:38.903    539      157009              9   \n",
              "\n",
              "                                                tags  answer_count  \\\n",
              "0  <c#><floating-point><type-conversion><double><...            13   \n",
              "1             <html><css><css3><internet-explorer-7>             5   \n",
              "2                               <c#><.net><datetime>            64   \n",
              "3  <c#><datetime><time><datediff><relative-time-s...            35   \n",
              "4  <javascript><html><browser><timezone><timezone...            25   \n",
              "\n",
              "   comment_count  favorite_count     community_owned_date  \n",
              "0              1              41  2012-10-31T16:42:47.213  \n",
              "1              0              10                      NaN  \n",
              "2              7             399  2011-08-16T19:40:43.080  \n",
              "3              3             529  2009-09-04T13:15:59.820  \n",
              "4              6             137                      NaN  "
            ],
            "text/html": [
              "\n",
              "  <div id=\"df-f65fcd77-7f75-459b-bb21-e7204f266c15\">\n",
              "    <div class=\"colab-df-container\">\n",
              "      <div>\n",
              "<style scoped>\n",
              "    .dataframe tbody tr th:only-of-type {\n",
              "        vertical-align: middle;\n",
              "    }\n",
              "\n",
              "    .dataframe tbody tr th {\n",
              "        vertical-align: top;\n",
              "    }\n",
              "\n",
              "    .dataframe thead th {\n",
              "        text-align: right;\n",
              "    }\n",
              "</style>\n",
              "<table border=\"1\" class=\"dataframe\">\n",
              "  <thead>\n",
              "    <tr style=\"text-align: right;\">\n",
              "      <th></th>\n",
              "      <th>Unnamed: 0</th>\n",
              "      <th>id</th>\n",
              "      <th>post_type_id</th>\n",
              "      <th>accepted_answer_id</th>\n",
              "      <th>parent_id</th>\n",
              "      <th>creation_date</th>\n",
              "      <th>score</th>\n",
              "      <th>view_count</th>\n",
              "      <th>owner_user_id</th>\n",
              "      <th>tags</th>\n",
              "      <th>answer_count</th>\n",
              "      <th>comment_count</th>\n",
              "      <th>favorite_count</th>\n",
              "      <th>community_owned_date</th>\n",
              "    </tr>\n",
              "  </thead>\n",
              "  <tbody>\n",
              "    <tr>\n",
              "      <th>0</th>\n",
              "      <td>0</td>\n",
              "      <td>4</td>\n",
              "      <td>1</td>\n",
              "      <td>7</td>\n",
              "      <td>-999</td>\n",
              "      <td>2008-07-31T21:42:52.667</td>\n",
              "      <td>573</td>\n",
              "      <td>37080</td>\n",
              "      <td>8</td>\n",
              "      <td>&lt;c#&gt;&lt;floating-point&gt;&lt;type-conversion&gt;&lt;double&gt;&lt;...</td>\n",
              "      <td>13</td>\n",
              "      <td>1</td>\n",
              "      <td>41</td>\n",
              "      <td>2012-10-31T16:42:47.213</td>\n",
              "    </tr>\n",
              "    <tr>\n",
              "      <th>1</th>\n",
              "      <td>1</td>\n",
              "      <td>6</td>\n",
              "      <td>1</td>\n",
              "      <td>31</td>\n",
              "      <td>-999</td>\n",
              "      <td>2008-07-31T22:08:08.620</td>\n",
              "      <td>256</td>\n",
              "      <td>16306</td>\n",
              "      <td>9</td>\n",
              "      <td>&lt;html&gt;&lt;css&gt;&lt;css3&gt;&lt;internet-explorer-7&gt;</td>\n",
              "      <td>5</td>\n",
              "      <td>0</td>\n",
              "      <td>10</td>\n",
              "      <td>NaN</td>\n",
              "    </tr>\n",
              "    <tr>\n",
              "      <th>2</th>\n",
              "      <td>2</td>\n",
              "      <td>9</td>\n",
              "      <td>1</td>\n",
              "      <td>1404</td>\n",
              "      <td>-999</td>\n",
              "      <td>2008-07-31T23:40:59.743</td>\n",
              "      <td>1743</td>\n",
              "      <td>480476</td>\n",
              "      <td>1</td>\n",
              "      <td>&lt;c#&gt;&lt;.net&gt;&lt;datetime&gt;</td>\n",
              "      <td>64</td>\n",
              "      <td>7</td>\n",
              "      <td>399</td>\n",
              "      <td>2011-08-16T19:40:43.080</td>\n",
              "    </tr>\n",
              "    <tr>\n",
              "      <th>3</th>\n",
              "      <td>3</td>\n",
              "      <td>11</td>\n",
              "      <td>1</td>\n",
              "      <td>1248</td>\n",
              "      <td>-999</td>\n",
              "      <td>2008-07-31T23:55:37.967</td>\n",
              "      <td>1348</td>\n",
              "      <td>136033</td>\n",
              "      <td>1</td>\n",
              "      <td>&lt;c#&gt;&lt;datetime&gt;&lt;time&gt;&lt;datediff&gt;&lt;relative-time-s...</td>\n",
              "      <td>35</td>\n",
              "      <td>3</td>\n",
              "      <td>529</td>\n",
              "      <td>2009-09-04T13:15:59.820</td>\n",
              "    </tr>\n",
              "    <tr>\n",
              "      <th>4</th>\n",
              "      <td>4</td>\n",
              "      <td>13</td>\n",
              "      <td>1</td>\n",
              "      <td>-999</td>\n",
              "      <td>-999</td>\n",
              "      <td>2008-08-01T00:42:38.903</td>\n",
              "      <td>539</td>\n",
              "      <td>157009</td>\n",
              "      <td>9</td>\n",
              "      <td>&lt;javascript&gt;&lt;html&gt;&lt;browser&gt;&lt;timezone&gt;&lt;timezone...</td>\n",
              "      <td>25</td>\n",
              "      <td>6</td>\n",
              "      <td>137</td>\n",
              "      <td>NaN</td>\n",
              "    </tr>\n",
              "  </tbody>\n",
              "</table>\n",
              "</div>\n",
              "      <button class=\"colab-df-convert\" onclick=\"convertToInteractive('df-f65fcd77-7f75-459b-bb21-e7204f266c15')\"\n",
              "              title=\"Convert this dataframe to an interactive table.\"\n",
              "              style=\"display:none;\">\n",
              "        \n",
              "  <svg xmlns=\"http://www.w3.org/2000/svg\" height=\"24px\"viewBox=\"0 0 24 24\"\n",
              "       width=\"24px\">\n",
              "    <path d=\"M0 0h24v24H0V0z\" fill=\"none\"/>\n",
              "    <path d=\"M18.56 5.44l.94 2.06.94-2.06 2.06-.94-2.06-.94-.94-2.06-.94 2.06-2.06.94zm-11 1L8.5 8.5l.94-2.06 2.06-.94-2.06-.94L8.5 2.5l-.94 2.06-2.06.94zm10 10l.94 2.06.94-2.06 2.06-.94-2.06-.94-.94-2.06-.94 2.06-2.06.94z\"/><path d=\"M17.41 7.96l-1.37-1.37c-.4-.4-.92-.59-1.43-.59-.52 0-1.04.2-1.43.59L10.3 9.45l-7.72 7.72c-.78.78-.78 2.05 0 2.83L4 21.41c.39.39.9.59 1.41.59.51 0 1.02-.2 1.41-.59l7.78-7.78 2.81-2.81c.8-.78.8-2.07 0-2.86zM5.41 20L4 18.59l7.72-7.72 1.47 1.35L5.41 20z\"/>\n",
              "  </svg>\n",
              "      </button>\n",
              "      \n",
              "  <style>\n",
              "    .colab-df-container {\n",
              "      display:flex;\n",
              "      flex-wrap:wrap;\n",
              "      gap: 12px;\n",
              "    }\n",
              "\n",
              "    .colab-df-convert {\n",
              "      background-color: #E8F0FE;\n",
              "      border: none;\n",
              "      border-radius: 50%;\n",
              "      cursor: pointer;\n",
              "      display: none;\n",
              "      fill: #1967D2;\n",
              "      height: 32px;\n",
              "      padding: 0 0 0 0;\n",
              "      width: 32px;\n",
              "    }\n",
              "\n",
              "    .colab-df-convert:hover {\n",
              "      background-color: #E2EBFA;\n",
              "      box-shadow: 0px 1px 2px rgba(60, 64, 67, 0.3), 0px 1px 3px 1px rgba(60, 64, 67, 0.15);\n",
              "      fill: #174EA6;\n",
              "    }\n",
              "\n",
              "    [theme=dark] .colab-df-convert {\n",
              "      background-color: #3B4455;\n",
              "      fill: #D2E3FC;\n",
              "    }\n",
              "\n",
              "    [theme=dark] .colab-df-convert:hover {\n",
              "      background-color: #434B5C;\n",
              "      box-shadow: 0px 1px 3px 1px rgba(0, 0, 0, 0.15);\n",
              "      filter: drop-shadow(0px 1px 2px rgba(0, 0, 0, 0.3));\n",
              "      fill: #FFFFFF;\n",
              "    }\n",
              "  </style>\n",
              "\n",
              "      <script>\n",
              "        const buttonEl =\n",
              "          document.querySelector('#df-f65fcd77-7f75-459b-bb21-e7204f266c15 button.colab-df-convert');\n",
              "        buttonEl.style.display =\n",
              "          google.colab.kernel.accessAllowed ? 'block' : 'none';\n",
              "\n",
              "        async function convertToInteractive(key) {\n",
              "          const element = document.querySelector('#df-f65fcd77-7f75-459b-bb21-e7204f266c15');\n",
              "          const dataTable =\n",
              "            await google.colab.kernel.invokeFunction('convertToInteractive',\n",
              "                                                     [key], {});\n",
              "          if (!dataTable) return;\n",
              "\n",
              "          const docLinkHtml = 'Like what you see? Visit the ' +\n",
              "            '<a target=\"_blank\" href=https://colab.research.google.com/notebooks/data_table.ipynb>data table notebook</a>'\n",
              "            + ' to learn more about interactive tables.';\n",
              "          element.innerHTML = '';\n",
              "          dataTable['output_type'] = 'display_data';\n",
              "          await google.colab.output.renderOutput(dataTable, element);\n",
              "          const docLink = document.createElement('div');\n",
              "          docLink.innerHTML = docLinkHtml;\n",
              "          element.appendChild(docLink);\n",
              "        }\n",
              "      </script>\n",
              "    </div>\n",
              "  </div>\n",
              "  "
            ]
          },
          "metadata": {},
          "execution_count": 9
        }
      ]
    },
    {
      "cell_type": "code",
      "source": [
        "count_tags_perQuestion = dict()\n",
        "for i in dataset5['tags']:\n",
        "    #print(i)\n",
        "    temp = i.split('>')\n",
        "    temp.pop() # removing last element which is empty char\n",
        "    count_tags_perQuestion[len(temp)] = count_tags_perQuestion.get(len(temp),0) + 1\n",
        "print(count_tags_perQuestion)"
      ],
      "metadata": {
        "colab": {
          "base_uri": "https://localhost:8080/"
        },
        "id": "E0wxzN2z4sbV",
        "outputId": "fb00e042-120d-4c18-d123-c36c8baaba8b"
      },
      "execution_count": 10,
      "outputs": [
        {
          "output_type": "stream",
          "name": "stdout",
          "text": [
            "{5: 73490, 4: 124127, 3: 194334, 2: 189704, 1: 94523, 6: 26}\n"
          ]
        }
      ]
    },
    {
      "cell_type": "code",
      "source": [
        "x_tagsPerQuestion = list()\n",
        "y_tagsPerQuestion = list()\n",
        "for i,j in count_tags_perQuestion.items() :\n",
        "    x_tagsPerQuestion.append(i)\n",
        "    y_tagsPerQuestion.append(j)\n",
        "print(x_tagsPerQuestion)\n",
        "print(y_tagsPerQuestion)"
      ],
      "metadata": {
        "colab": {
          "base_uri": "https://localhost:8080/"
        },
        "id": "yZQycHGy5ECD",
        "outputId": "3290c73f-b315-440f-9d3c-ef33e8460e74"
      },
      "execution_count": 11,
      "outputs": [
        {
          "output_type": "stream",
          "name": "stdout",
          "text": [
            "[5, 4, 3, 2, 1, 6]\n",
            "[73490, 124127, 194334, 189704, 94523, 26]\n"
          ]
        }
      ]
    },
    {
      "cell_type": "code",
      "source": [
        "def addlabels(x,y):\n",
        "    c = 1\n",
        "    for i,j in zip(x,y):\n",
        "        plt.text(i, i, j, ha = 'center')\n",
        "        c+=1\n",
        "        # setting figure size by using figure() function \n",
        "plt.figure(figsize = (10, 10))\n",
        "plt.bar(x_tagsPerQuestion, y_tagsPerQuestion,0.5)\n",
        "plt.title('No. of tags per question')\n",
        "plt.xlabel(\"No. Of Tags per question\")\n",
        "plt.ylabel(\"Frequency Count\")\n",
        "addlabels(x_tagsPerQuestion, y_tagsPerQuestion)"
      ],
      "metadata": {
        "colab": {
          "base_uri": "https://localhost:8080/",
          "height": 621
        },
        "id": "ZtGin8DN5JwF",
        "outputId": "6df16c89-4727-487a-f7d4-1570e8009af6"
      },
      "execution_count": 12,
      "outputs": [
        {
          "output_type": "display_data",
          "data": {
            "text/plain": [
              "<Figure size 720x720 with 1 Axes>"
            ],
            "image/png": "[encoded data removed]"
          },
          "metadata": {
            "needs_background": "light"
          }
        }
      ]
    },
    {
      "cell_type": "code",
      "source": [
        ""
      ],
      "metadata": {
        "id": "TP0RCi0c5Lu_"
      },
      "execution_count": null,
      "outputs": []
    }
  ]
}