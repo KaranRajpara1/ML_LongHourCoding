{
  "cells": [
    {
      "cell_type": "markdown",
      "metadata": {
        "id": "ZmHyM4qJ4HwM"
      },
      "source": [
        "Question 4:\n",
        "Determine the nature of the distribution of top-500 tags"
      ]
    },
    {
      "cell_type": "code",
      "execution_count": null,
      "metadata": {
        "id": "qrI1QYxx3dsY"
      },
      "outputs": [],
      "source": [
        "import pandas as pd\n",
        "import numpy as np\n",
        "import matplotlib.pyplot as plt\n",
        "from matplotlib import colors\n",
        "from matplotlib.ticker import PercentFormatter"
      ]
    },
    {
      "cell_type": "code",
      "execution_count": null,
      "metadata": {
        "id": "XCO1bnB_4jET"
      },
      "outputs": [],
      "source": [
        "from google.colab import drive"
      ]
    },
    {
      "cell_type": "code",
      "execution_count": null,
      "metadata": {
        "colab": {
          "base_uri": "https://localhost:8080/"
        },
        "id": "JBLDZYKo6c64",
        "outputId": "4c886cc3-0ed6-40cf-dd72-9572d3917a90"
      },
      "outputs": [
        {
          "name": "stdout",
          "output_type": "stream",
          "text": [
            "Mounted at /content/drive/\n"
          ]
        }
      ],
      "source": [
        "drive.mount('/content/drive/')"
      ]
    },
    {
      "cell_type": "code",
      "execution_count": null,
      "metadata": {
        "colab": {
          "base_uri": "https://localhost:8080/"
        },
        "id": "HfAZxSea4kmh",
        "outputId": "edf0191a-adf1-4198-eda7-8070f1fe5ad6"
      },
      "outputs": [
        {
          "name": "stdout",
          "output_type": "stream",
          "text": [
            "/content/drive/MyDrive/MachineLearning_LHC/Arjun_Assignment_data/dataset\n"
          ]
        }
      ],
      "source": [
        "cd \"/content/drive/MyDrive/MachineLearning_LHC/Arjun_Assignment_data/dataset\""
      ]
    },
    {
      "cell_type": "code",
      "execution_count": null,
      "metadata": {
        "colab": {
          "base_uri": "https://localhost:8080/"
        },
        "id": "O3ZJckyT4luL",
        "outputId": "6c879f60-cc16-45fb-85c6-a61e93ea70ac"
      },
      "outputs": [
        {
          "name": "stdout",
          "output_type": "stream",
          "text": [
            "post_history.csv  postLinks.json  posts_long.json  users.csv\n",
            "postLinks.csv     posts_long.csv  posts_short.csv\n"
          ]
        }
      ],
      "source": [
        "ls"
      ]
    },
    {
      "cell_type": "code",
      "execution_count": null,
      "metadata": {
        "colab": {
          "base_uri": "https://localhost:8080/",
          "height": 335
        },
        "id": "YBlqqxU744OA",
        "outputId": "266d44bf-7ab1-40fa-e020-7af791263fbc"
      },
      "outputs": [
        {
          "name": "stderr",
          "output_type": "stream",
          "text": [
            "/usr/local/lib/python3.7/dist-packages/IPython/core/interactiveshell.py:2882: DtypeWarning: Columns (13) have mixed types.Specify dtype option on import or set low_memory=False.\n",
            "  exec(code_obj, self.user_global_ns, self.user_ns)\n"
          ]
        },
        {
          "data": {
            "text/html": [
              "\n",
              "  <div id=\"df-55d38836-74f1-473d-8cdb-cdd180ed4a9c\">\n",
              "    <div class=\"colab-df-container\">\n",
              "      <div>\n",
              "<style scoped>\n",
              "    .dataframe tbody tr th:only-of-type {\n",
              "        vertical-align: middle;\n",
              "    }\n",
              "\n",
              "    .dataframe tbody tr th {\n",
              "        vertical-align: top;\n",
              "    }\n",
              "\n",
              "    .dataframe thead th {\n",
              "        text-align: right;\n",
              "    }\n",
              "</style>\n",
              "<table border=\"1\" class=\"dataframe\">\n",
              "  <thead>\n",
              "    <tr style=\"text-align: right;\">\n",
              "      <th></th>\n",
              "      <th>Unnamed: 0</th>\n",
              "      <th>id</th>\n",
              "      <th>post_type_id</th>\n",
              "      <th>accepted_answer_id</th>\n",
              "      <th>parent_id</th>\n",
              "      <th>score</th>\n",
              "      <th>view_count</th>\n",
              "      <th>owner_user_id</th>\n",
              "      <th>answer_count</th>\n",
              "      <th>comment_count</th>\n",
              "      <th>favorite_count</th>\n",
              "    </tr>\n",
              "  </thead>\n",
              "  <tbody>\n",
              "    <tr>\n",
              "      <th>count</th>\n",
              "      <td>676204.000000</td>\n",
              "      <td>6.762040e+05</td>\n",
              "      <td>676204.0</td>\n",
              "      <td>6.762040e+05</td>\n",
              "      <td>676204.0</td>\n",
              "      <td>676204.000000</td>\n",
              "      <td>6.762040e+05</td>\n",
              "      <td>6.762040e+05</td>\n",
              "      <td>676204.000000</td>\n",
              "      <td>676204.000000</td>\n",
              "      <td>676204.000000</td>\n",
              "    </tr>\n",
              "    <tr>\n",
              "      <th>mean</th>\n",
              "      <td>338101.500000</td>\n",
              "      <td>2.584291e+07</td>\n",
              "      <td>1.0</td>\n",
              "      <td>1.166794e+07</td>\n",
              "      <td>-999.0</td>\n",
              "      <td>14.731906</td>\n",
              "      <td>1.549030e+04</td>\n",
              "      <td>2.891993e+06</td>\n",
              "      <td>2.415215</td>\n",
              "      <td>2.547613</td>\n",
              "      <td>5.042214</td>\n",
              "    </tr>\n",
              "    <tr>\n",
              "      <th>std</th>\n",
              "      <td>195203.425051</td>\n",
              "      <td>1.586292e+07</td>\n",
              "      <td>0.0</td>\n",
              "      <td>1.531875e+07</td>\n",
              "      <td>0.0</td>\n",
              "      <td>97.924320</td>\n",
              "      <td>7.056748e+04</td>\n",
              "      <td>2.703980e+06</td>\n",
              "      <td>3.403235</td>\n",
              "      <td>2.914937</td>\n",
              "      <td>44.758421</td>\n",
              "    </tr>\n",
              "    <tr>\n",
              "      <th>min</th>\n",
              "      <td>0.000000</td>\n",
              "      <td>4.000000e+00</td>\n",
              "      <td>1.0</td>\n",
              "      <td>-9.990000e+02</td>\n",
              "      <td>-999.0</td>\n",
              "      <td>-146.000000</td>\n",
              "      <td>3.000000e+00</td>\n",
              "      <td>-9.990000e+02</td>\n",
              "      <td>0.000000</td>\n",
              "      <td>0.000000</td>\n",
              "      <td>0.000000</td>\n",
              "    </tr>\n",
              "    <tr>\n",
              "      <th>25%</th>\n",
              "      <td>169050.750000</td>\n",
              "      <td>1.170959e+07</td>\n",
              "      <td>1.0</td>\n",
              "      <td>-9.990000e+02</td>\n",
              "      <td>-999.0</td>\n",
              "      <td>0.000000</td>\n",
              "      <td>6.400000e+01</td>\n",
              "      <td>6.399082e+05</td>\n",
              "      <td>1.000000</td>\n",
              "      <td>0.000000</td>\n",
              "      <td>0.000000</td>\n",
              "    </tr>\n",
              "    <tr>\n",
              "      <th>50%</th>\n",
              "      <td>338101.500000</td>\n",
              "      <td>2.566376e+07</td>\n",
              "      <td>1.0</td>\n",
              "      <td>2.574750e+06</td>\n",
              "      <td>-999.0</td>\n",
              "      <td>1.000000</td>\n",
              "      <td>4.880000e+02</td>\n",
              "      <td>1.952811e+06</td>\n",
              "      <td>2.000000</td>\n",
              "      <td>2.000000</td>\n",
              "      <td>0.000000</td>\n",
              "    </tr>\n",
              "    <tr>\n",
              "      <th>75%</th>\n",
              "      <td>507152.250000</td>\n",
              "      <td>3.999613e+07</td>\n",
              "      <td>1.0</td>\n",
              "      <td>2.095320e+07</td>\n",
              "      <td>-999.0</td>\n",
              "      <td>5.000000</td>\n",
              "      <td>5.694000e+03</td>\n",
              "      <td>4.648680e+06</td>\n",
              "      <td>3.000000</td>\n",
              "      <td>4.000000</td>\n",
              "      <td>1.000000</td>\n",
              "    </tr>\n",
              "    <tr>\n",
              "      <th>max</th>\n",
              "      <td>676203.000000</td>\n",
              "      <td>5.213412e+07</td>\n",
              "      <td>1.0</td>\n",
              "      <td>5.213268e+07</td>\n",
              "      <td>-999.0</td>\n",
              "      <td>21775.000000</td>\n",
              "      <td>6.842435e+06</td>\n",
              "      <td>1.030524e+07</td>\n",
              "      <td>518.000000</td>\n",
              "      <td>70.000000</td>\n",
              "      <td>9977.000000</td>\n",
              "    </tr>\n",
              "  </tbody>\n",
              "</table>\n",
              "</div>\n",
              "      <button class=\"colab-df-convert\" onclick=\"convertToInteractive('df-55d38836-74f1-473d-8cdb-cdd180ed4a9c')\"\n",
              "              title=\"Convert this dataframe to an interactive table.\"\n",
              "              style=\"display:none;\">\n",
              "        \n",
              "  <svg xmlns=\"http://www.w3.org/2000/svg\" height=\"24px\"viewBox=\"0 0 24 24\"\n",
              "       width=\"24px\">\n",
              "    <path d=\"M0 0h24v24H0V0z\" fill=\"none\"/>\n",
              "    <path d=\"M18.56 5.44l.94 2.06.94-2.06 2.06-.94-2.06-.94-.94-2.06-.94 2.06-2.06.94zm-11 1L8.5 8.5l.94-2.06 2.06-.94-2.06-.94L8.5 2.5l-.94 2.06-2.06.94zm10 10l.94 2.06.94-2.06 2.06-.94-2.06-.94-.94-2.06-.94 2.06-2.06.94z\"/><path d=\"M17.41 7.96l-1.37-1.37c-.4-.4-.92-.59-1.43-.59-.52 0-1.04.2-1.43.59L10.3 9.45l-7.72 7.72c-.78.78-.78 2.05 0 2.83L4 21.41c.39.39.9.59 1.41.59.51 0 1.02-.2 1.41-.59l7.78-7.78 2.81-2.81c.8-.78.8-2.07 0-2.86zM5.41 20L4 18.59l7.72-7.72 1.47 1.35L5.41 20z\"/>\n",
              "  </svg>\n",
              "      </button>\n",
              "      \n",
              "  <style>\n",
              "    .colab-df-container {\n",
              "      display:flex;\n",
              "      flex-wrap:wrap;\n",
              "      gap: 12px;\n",
              "    }\n",
              "\n",
              "    .colab-df-convert {\n",
              "      background-color: #E8F0FE;\n",
              "      border: none;\n",
              "      border-radius: 50%;\n",
              "      cursor: pointer;\n",
              "      display: none;\n",
              "      fill: #1967D2;\n",
              "      height: 32px;\n",
              "      padding: 0 0 0 0;\n",
              "      width: 32px;\n",
              "    }\n",
              "\n",
              "    .colab-df-convert:hover {\n",
              "      background-color: #E2EBFA;\n",
              "      box-shadow: 0px 1px 2px rgba(60, 64, 67, 0.3), 0px 1px 3px 1px rgba(60, 64, 67, 0.15);\n",
              "      fill: #174EA6;\n",
              "    }\n",
              "\n",
              "    [theme=dark] .colab-df-convert {\n",
              "      background-color: #3B4455;\n",
              "      fill: #D2E3FC;\n",
              "    }\n",
              "\n",
              "    [theme=dark] .colab-df-convert:hover {\n",
              "      background-color: #434B5C;\n",
              "      box-shadow: 0px 1px 3px 1px rgba(0, 0, 0, 0.15);\n",
              "      filter: drop-shadow(0px 1px 2px rgba(0, 0, 0, 0.3));\n",
              "      fill: #FFFFFF;\n",
              "    }\n",
              "  </style>\n",
              "\n",
              "      <script>\n",
              "        const buttonEl =\n",
              "          document.querySelector('#df-55d38836-74f1-473d-8cdb-cdd180ed4a9c button.colab-df-convert');\n",
              "        buttonEl.style.display =\n",
              "          google.colab.kernel.accessAllowed ? 'block' : 'none';\n",
              "\n",
              "        async function convertToInteractive(key) {\n",
              "          const element = document.querySelector('#df-55d38836-74f1-473d-8cdb-cdd180ed4a9c');\n",
              "          const dataTable =\n",
              "            await google.colab.kernel.invokeFunction('convertToInteractive',\n",
              "                                                     [key], {});\n",
              "          if (!dataTable) return;\n",
              "\n",
              "          const docLinkHtml = 'Like what you see? Visit the ' +\n",
              "            '<a target=\"_blank\" href=https://colab.research.google.com/notebooks/data_table.ipynb>data table notebook</a>'\n",
              "            + ' to learn more about interactive tables.';\n",
              "          element.innerHTML = '';\n",
              "          dataTable['output_type'] = 'display_data';\n",
              "          await google.colab.output.renderOutput(dataTable, element);\n",
              "          const docLink = document.createElement('div');\n",
              "          docLink.innerHTML = docLinkHtml;\n",
              "          element.appendChild(docLink);\n",
              "        }\n",
              "      </script>\n",
              "    </div>\n",
              "  </div>\n",
              "  "
            ],
            "text/plain": [
              "          Unnamed: 0            id  post_type_id  accepted_answer_id  \\\n",
              "count  676204.000000  6.762040e+05      676204.0        6.762040e+05   \n",
              "mean   338101.500000  2.584291e+07           1.0        1.166794e+07   \n",
              "std    195203.425051  1.586292e+07           0.0        1.531875e+07   \n",
              "min         0.000000  4.000000e+00           1.0       -9.990000e+02   \n",
              "25%    169050.750000  1.170959e+07           1.0       -9.990000e+02   \n",
              "50%    338101.500000  2.566376e+07           1.0        2.574750e+06   \n",
              "75%    507152.250000  3.999613e+07           1.0        2.095320e+07   \n",
              "max    676203.000000  5.213412e+07           1.0        5.213268e+07   \n",
              "\n",
              "       parent_id          score    view_count  owner_user_id   answer_count  \\\n",
              "count   676204.0  676204.000000  6.762040e+05   6.762040e+05  676204.000000   \n",
              "mean      -999.0      14.731906  1.549030e+04   2.891993e+06       2.415215   \n",
              "std          0.0      97.924320  7.056748e+04   2.703980e+06       3.403235   \n",
              "min       -999.0    -146.000000  3.000000e+00  -9.990000e+02       0.000000   \n",
              "25%       -999.0       0.000000  6.400000e+01   6.399082e+05       1.000000   \n",
              "50%       -999.0       1.000000  4.880000e+02   1.952811e+06       2.000000   \n",
              "75%       -999.0       5.000000  5.694000e+03   4.648680e+06       3.000000   \n",
              "max       -999.0   21775.000000  6.842435e+06   1.030524e+07     518.000000   \n",
              "\n",
              "       comment_count  favorite_count  \n",
              "count  676204.000000   676204.000000  \n",
              "mean        2.547613        5.042214  \n",
              "std         2.914937       44.758421  \n",
              "min         0.000000        0.000000  \n",
              "25%         0.000000        0.000000  \n",
              "50%         2.000000        0.000000  \n",
              "75%         4.000000        1.000000  \n",
              "max        70.000000     9977.000000  "
            ]
          },
          "execution_count": 7,
          "metadata": {},
          "output_type": "execute_result"
        }
      ],
      "source": [
        "dataset5 = pd.read_csv('posts_short.csv')\n",
        "dataset5.describe()"
      ]
    },
    {
      "cell_type": "code",
      "execution_count": null,
      "metadata": {
        "colab": {
          "base_uri": "https://localhost:8080/",
          "height": 634
        },
        "id": "_jxF6Bkn5GcA",
        "outputId": "e817ca56-1095-45b5-af6a-b06bf672f701"
      },
      "outputs": [
        {
          "data": {
            "text/html": [
              "\n",
              "  <div id=\"df-1dd40a72-b7a6-4f2b-83a8-2262dfda813b\">\n",
              "    <div class=\"colab-df-container\">\n",
              "      <div>\n",
              "<style scoped>\n",
              "    .dataframe tbody tr th:only-of-type {\n",
              "        vertical-align: middle;\n",
              "    }\n",
              "\n",
              "    .dataframe tbody tr th {\n",
              "        vertical-align: top;\n",
              "    }\n",
              "\n",
              "    .dataframe thead th {\n",
              "        text-align: right;\n",
              "    }\n",
              "</style>\n",
              "<table border=\"1\" class=\"dataframe\">\n",
              "  <thead>\n",
              "    <tr style=\"text-align: right;\">\n",
              "      <th></th>\n",
              "      <th>Unnamed: 0</th>\n",
              "      <th>id</th>\n",
              "      <th>post_type_id</th>\n",
              "      <th>accepted_answer_id</th>\n",
              "      <th>parent_id</th>\n",
              "      <th>creation_date</th>\n",
              "      <th>score</th>\n",
              "      <th>view_count</th>\n",
              "      <th>owner_user_id</th>\n",
              "      <th>tags</th>\n",
              "      <th>answer_count</th>\n",
              "      <th>comment_count</th>\n",
              "      <th>favorite_count</th>\n",
              "      <th>community_owned_date</th>\n",
              "    </tr>\n",
              "  </thead>\n",
              "  <tbody>\n",
              "    <tr>\n",
              "      <th>0</th>\n",
              "      <td>0</td>\n",
              "      <td>4</td>\n",
              "      <td>1</td>\n",
              "      <td>7</td>\n",
              "      <td>-999</td>\n",
              "      <td>2008-07-31T21:42:52.667</td>\n",
              "      <td>573</td>\n",
              "      <td>37080</td>\n",
              "      <td>8</td>\n",
              "      <td>&lt;c#&gt;&lt;floating-point&gt;&lt;type-conversion&gt;&lt;double&gt;&lt;...</td>\n",
              "      <td>13</td>\n",
              "      <td>1</td>\n",
              "      <td>41</td>\n",
              "      <td>2012-10-31T16:42:47.213</td>\n",
              "    </tr>\n",
              "    <tr>\n",
              "      <th>1</th>\n",
              "      <td>1</td>\n",
              "      <td>6</td>\n",
              "      <td>1</td>\n",
              "      <td>31</td>\n",
              "      <td>-999</td>\n",
              "      <td>2008-07-31T22:08:08.620</td>\n",
              "      <td>256</td>\n",
              "      <td>16306</td>\n",
              "      <td>9</td>\n",
              "      <td>&lt;html&gt;&lt;css&gt;&lt;css3&gt;&lt;internet-explorer-7&gt;</td>\n",
              "      <td>5</td>\n",
              "      <td>0</td>\n",
              "      <td>10</td>\n",
              "      <td>NaN</td>\n",
              "    </tr>\n",
              "    <tr>\n",
              "      <th>2</th>\n",
              "      <td>2</td>\n",
              "      <td>9</td>\n",
              "      <td>1</td>\n",
              "      <td>1404</td>\n",
              "      <td>-999</td>\n",
              "      <td>2008-07-31T23:40:59.743</td>\n",
              "      <td>1743</td>\n",
              "      <td>480476</td>\n",
              "      <td>1</td>\n",
              "      <td>&lt;c#&gt;&lt;.net&gt;&lt;datetime&gt;</td>\n",
              "      <td>64</td>\n",
              "      <td>7</td>\n",
              "      <td>399</td>\n",
              "      <td>2011-08-16T19:40:43.080</td>\n",
              "    </tr>\n",
              "    <tr>\n",
              "      <th>3</th>\n",
              "      <td>3</td>\n",
              "      <td>11</td>\n",
              "      <td>1</td>\n",
              "      <td>1248</td>\n",
              "      <td>-999</td>\n",
              "      <td>2008-07-31T23:55:37.967</td>\n",
              "      <td>1348</td>\n",
              "      <td>136033</td>\n",
              "      <td>1</td>\n",
              "      <td>&lt;c#&gt;&lt;datetime&gt;&lt;time&gt;&lt;datediff&gt;&lt;relative-time-s...</td>\n",
              "      <td>35</td>\n",
              "      <td>3</td>\n",
              "      <td>529</td>\n",
              "      <td>2009-09-04T13:15:59.820</td>\n",
              "    </tr>\n",
              "    <tr>\n",
              "      <th>4</th>\n",
              "      <td>4</td>\n",
              "      <td>13</td>\n",
              "      <td>1</td>\n",
              "      <td>-999</td>\n",
              "      <td>-999</td>\n",
              "      <td>2008-08-01T00:42:38.903</td>\n",
              "      <td>539</td>\n",
              "      <td>157009</td>\n",
              "      <td>9</td>\n",
              "      <td>&lt;javascript&gt;&lt;html&gt;&lt;browser&gt;&lt;timezone&gt;&lt;timezone...</td>\n",
              "      <td>25</td>\n",
              "      <td>6</td>\n",
              "      <td>137</td>\n",
              "      <td>NaN</td>\n",
              "    </tr>\n",
              "  </tbody>\n",
              "</table>\n",
              "</div>\n",
              "      <button class=\"colab-df-convert\" onclick=\"convertToInteractive('df-1dd40a72-b7a6-4f2b-83a8-2262dfda813b')\"\n",
              "              title=\"Convert this dataframe to an interactive table.\"\n",
              "              style=\"display:none;\">\n",
              "        \n",
              "  <svg xmlns=\"http://www.w3.org/2000/svg\" height=\"24px\"viewBox=\"0 0 24 24\"\n",
              "       width=\"24px\">\n",
              "    <path d=\"M0 0h24v24H0V0z\" fill=\"none\"/>\n",
              "    <path d=\"M18.56 5.44l.94 2.06.94-2.06 2.06-.94-2.06-.94-.94-2.06-.94 2.06-2.06.94zm-11 1L8.5 8.5l.94-2.06 2.06-.94-2.06-.94L8.5 2.5l-.94 2.06-2.06.94zm10 10l.94 2.06.94-2.06 2.06-.94-2.06-.94-.94-2.06-.94 2.06-2.06.94z\"/><path d=\"M17.41 7.96l-1.37-1.37c-.4-.4-.92-.59-1.43-.59-.52 0-1.04.2-1.43.59L10.3 9.45l-7.72 7.72c-.78.78-.78 2.05 0 2.83L4 21.41c.39.39.9.59 1.41.59.51 0 1.02-.2 1.41-.59l7.78-7.78 2.81-2.81c.8-.78.8-2.07 0-2.86zM5.41 20L4 18.59l7.72-7.72 1.47 1.35L5.41 20z\"/>\n",
              "  </svg>\n",
              "      </button>\n",
              "      \n",
              "  <style>\n",
              "    .colab-df-container {\n",
              "      display:flex;\n",
              "      flex-wrap:wrap;\n",
              "      gap: 12px;\n",
              "    }\n",
              "\n",
              "    .colab-df-convert {\n",
              "      background-color: #E8F0FE;\n",
              "      border: none;\n",
              "      border-radius: 50%;\n",
              "      cursor: pointer;\n",
              "      display: none;\n",
              "      fill: #1967D2;\n",
              "      height: 32px;\n",
              "      padding: 0 0 0 0;\n",
              "      width: 32px;\n",
              "    }\n",
              "\n",
              "    .colab-df-convert:hover {\n",
              "      background-color: #E2EBFA;\n",
              "      box-shadow: 0px 1px 2px rgba(60, 64, 67, 0.3), 0px 1px 3px 1px rgba(60, 64, 67, 0.15);\n",
              "      fill: #174EA6;\n",
              "    }\n",
              "\n",
              "    [theme=dark] .colab-df-convert {\n",
              "      background-color: #3B4455;\n",
              "      fill: #D2E3FC;\n",
              "    }\n",
              "\n",
              "    [theme=dark] .colab-df-convert:hover {\n",
              "      background-color: #434B5C;\n",
              "      box-shadow: 0px 1px 3px 1px rgba(0, 0, 0, 0.15);\n",
              "      filter: drop-shadow(0px 1px 2px rgba(0, 0, 0, 0.3));\n",
              "      fill: #FFFFFF;\n",
              "    }\n",
              "  </style>\n",
              "\n",
              "      <script>\n",
              "        const buttonEl =\n",
              "          document.querySelector('#df-1dd40a72-b7a6-4f2b-83a8-2262dfda813b button.colab-df-convert');\n",
              "        buttonEl.style.display =\n",
              "          google.colab.kernel.accessAllowed ? 'block' : 'none';\n",
              "\n",
              "        async function convertToInteractive(key) {\n",
              "          const element = document.querySelector('#df-1dd40a72-b7a6-4f2b-83a8-2262dfda813b');\n",
              "          const dataTable =\n",
              "            await google.colab.kernel.invokeFunction('convertToInteractive',\n",
              "                                                     [key], {});\n",
              "          if (!dataTable) return;\n",
              "\n",
              "          const docLinkHtml = 'Like what you see? Visit the ' +\n",
              "            '<a target=\"_blank\" href=https://colab.research.google.com/notebooks/data_table.ipynb>data table notebook</a>'\n",
              "            + ' to learn more about interactive tables.';\n",
              "          element.innerHTML = '';\n",
              "          dataTable['output_type'] = 'display_data';\n",
              "          await google.colab.output.renderOutput(dataTable, element);\n",
              "          const docLink = document.createElement('div');\n",
              "          docLink.innerHTML = docLinkHtml;\n",
              "          element.appendChild(docLink);\n",
              "        }\n",
              "      </script>\n",
              "    </div>\n",
              "  </div>\n",
              "  "
            ],
            "text/plain": [
              "   Unnamed: 0  id  post_type_id  accepted_answer_id  parent_id  \\\n",
              "0           0   4             1                   7       -999   \n",
              "1           1   6             1                  31       -999   \n",
              "2           2   9             1                1404       -999   \n",
              "3           3  11             1                1248       -999   \n",
              "4           4  13             1                -999       -999   \n",
              "\n",
              "             creation_date  score  view_count  owner_user_id  \\\n",
              "0  2008-07-31T21:42:52.667    573       37080              8   \n",
              "1  2008-07-31T22:08:08.620    256       16306              9   \n",
              "2  2008-07-31T23:40:59.743   1743      480476              1   \n",
              "3  2008-07-31T23:55:37.967   1348      136033              1   \n",
              "4  2008-08-01T00:42:38.903    539      157009              9   \n",
              "\n",
              "                                                tags  answer_count  \\\n",
              "0  <c#><floating-point><type-conversion><double><...            13   \n",
              "1             <html><css><css3><internet-explorer-7>             5   \n",
              "2                               <c#><.net><datetime>            64   \n",
              "3  <c#><datetime><time><datediff><relative-time-s...            35   \n",
              "4  <javascript><html><browser><timezone><timezone...            25   \n",
              "\n",
              "   comment_count  favorite_count     community_owned_date  \n",
              "0              1              41  2012-10-31T16:42:47.213  \n",
              "1              0              10                      NaN  \n",
              "2              7             399  2011-08-16T19:40:43.080  \n",
              "3              3             529  2009-09-04T13:15:59.820  \n",
              "4              6             137                      NaN  "
            ]
          },
          "execution_count": 8,
          "metadata": {},
          "output_type": "execute_result"
        }
      ],
      "source": [
        "dataset5.head(5)"
      ]
    },
    {
      "cell_type": "code",
      "execution_count": null,
      "metadata": {
        "id": "TP0RCi0c5Lu_"
      },
      "outputs": [],
      "source": [
        "count = dict()\n",
        "for i in dataset5['tags']:\n",
        "    #print(i)\n",
        "    temp = i.split('>')\n",
        "    temp.pop() # removing last element which is empty char\n",
        "    for j in temp:\n",
        "        count[j[1:].lower()] = count.get(j[1:].lower(), 0) + 1"
      ]
    },
    {
      "cell_type": "code",
      "execution_count": null,
      "metadata": {
        "id": "XB8iDNc558oJ"
      },
      "outputs": [],
      "source": [
        "print(count)"
      ]
    },
    {
      "cell_type": "code",
      "execution_count": null,
      "metadata": {
        "id": "_ZwOpMOd6pn5"
      },
      "outputs": [],
      "source": [
        "sorted_count = {k: v for k, v in sorted(count.items(), key=lambda item: item[1], reverse=True)}\n",
        "print(sorted_count)"
      ]
    },
    {
      "cell_type": "code",
      "execution_count": null,
      "metadata": {
        "id": "kRSYlKDE7TmJ"
      },
      "outputs": [],
      "source": [
        "top_500_tags = dict()\n",
        "c = 0\n",
        "for i,j in sorted_count.items():\n",
        "    if c == 500:\n",
        "        break\n",
        "    top_500_tags[i] = j\n",
        "    c += 1\n",
        "print(top_500_tags)\n",
        "print(len(top_500_tags))"
      ]
    },
    {
      "cell_type": "code",
      "execution_count": 26,
      "metadata": {
        "id": "xAnEGVma8uug",
        "colab": {
          "base_uri": "https://localhost:8080/"
        },
        "outputId": "7796602c-1047-46ec-e5c8-59941cd98ab3"
      },
      "outputs": [
        {
          "output_type": "stream",
          "name": "stdout",
          "text": [
            "[1, 2, 3, 4, 5, 6, 7, 8, 9, 10, 11, 12, 13, 14, 15, 16, 17, 18, 19, 20, 21, 22, 23, 24, 25, 26, 27, 28, 29, 30, 31, 32, 33, 34, 35, 36, 37, 38, 39, 40, 41, 42, 43, 44, 45, 46, 47, 48, 49, 50, 51, 52, 53, 54, 55, 56, 57, 58, 59, 60, 61, 62, 63, 64, 65, 66, 67, 68, 69, 70, 71, 72, 73, 74, 75, 76, 77, 78, 79, 80, 81, 82, 83, 84, 85, 86, 87, 88, 89, 90, 91, 92, 93, 94, 95, 96, 97, 98, 99, 100, 101, 102, 103, 104, 105, 106, 107, 108, 109, 110, 111, 112, 113, 114, 115, 116, 117, 118, 119, 120, 121, 122, 123, 124, 125, 126, 127, 128, 129, 130, 131, 132, 133, 134, 135, 136, 137, 138, 139, 140, 141, 142, 143, 144, 145, 146, 147, 148, 149, 150, 151, 152, 153, 154, 155, 156, 157, 158, 159, 160, 161, 162, 163, 164, 165, 166, 167, 168, 169, 170, 171, 172, 173, 174, 175, 176, 177, 178, 179, 180, 181, 182, 183, 184, 185, 186, 187, 188, 189, 190, 191, 192, 193, 194, 195, 196, 197, 198, 199, 200, 201, 202, 203, 204, 205, 206, 207, 208, 209, 210, 211, 212, 213, 214, 215, 216, 217, 218, 219, 220, 221, 222, 223, 224, 225, 226, 227, 228, 229, 230, 231, 232, 233, 234, 235, 236, 237, 238, 239, 240, 241, 242, 243, 244, 245, 246, 247, 248, 249, 250, 251, 252, 253, 254, 255, 256, 257, 258, 259, 260, 261, 262, 263, 264, 265, 266, 267, 268, 269, 270, 271, 272, 273, 274, 275, 276, 277, 278, 279, 280, 281, 282, 283, 284, 285, 286, 287, 288, 289, 290, 291, 292, 293, 294, 295, 296, 297, 298, 299, 300, 301, 302, 303, 304, 305, 306, 307, 308, 309, 310, 311, 312, 313, 314, 315, 316, 317, 318, 319, 320, 321, 322, 323, 324, 325, 326, 327, 328, 329, 330, 331, 332, 333, 334, 335, 336, 337, 338, 339, 340, 341, 342, 343, 344, 345, 346, 347, 348, 349, 350, 351, 352, 353, 354, 355, 356, 357, 358, 359, 360, 361, 362, 363, 364, 365, 366, 367, 368, 369, 370, 371, 372, 373, 374, 375, 376, 377, 378, 379, 380, 381, 382, 383, 384, 385, 386, 387, 388, 389, 390, 391, 392, 393, 394, 395, 396, 397, 398, 399, 400, 401, 402, 403, 404, 405, 406, 407, 408, 409, 410, 411, 412, 413, 414, 415, 416, 417, 418, 419, 420, 421, 422, 423, 424, 425, 426, 427, 428, 429, 430, 431, 432, 433, 434, 435, 436, 437, 438, 439, 440, 441, 442, 443, 444, 445, 446, 447, 448, 449, 450, 451, 452, 453, 454, 455, 456, 457, 458, 459, 460, 461, 462, 463, 464, 465, 466, 467, 468, 469, 470, 471, 472, 473, 474, 475, 476, 477, 478, 479, 480, 481, 482, 483, 484, 485, 486, 487, 488, 489, 490, 491, 492, 493, 494, 495, 496, 497, 498, 499, 500]\n"
          ]
        }
      ],
      "source": [
        "x = [i for i in range(1,501)]\n",
        "print(x)"
      ]
    },
    {
      "cell_type": "code",
      "execution_count": null,
      "metadata": {
        "id": "tLKriHHcBozc"
      },
      "outputs": [],
      "source": [
        "y = list()\n",
        "for i,j in top_500_tags.items():\n",
        "    y.append(j)\n",
        "print(y)"
      ]
    },
    {
      "cell_type": "code",
      "execution_count": 27,
      "metadata": {
        "colab": {
          "base_uri": "https://localhost:8080/",
          "height": 295
        },
        "id": "_K2LwNEJBqIU",
        "outputId": "4a7ea758-6501-41a6-957b-4bcc3e164874"
      },
      "outputs": [
        {
          "output_type": "display_data",
          "data": {
            "text/plain": [
              "<Figure size 432x288 with 1 Axes>"
            ],
            "image/png": "[encoded data removed]"
          },
          "metadata": {
            "needs_background": "light"
          }
        }
      ],
      "source": [
        "plt.plot(x, y)\n",
        "plt.xlabel(\"Top 500 Tags\")\n",
        "plt.ylabel(\"Frequency Count\")\n",
        "plt.title(\"Distribution of Top 500 Tags\")\n",
        "plt.show()  # show first chart"
      ]
    },
    {
      "cell_type": "code",
      "execution_count": null,
      "metadata": {
        "id": "en9nJOA3Bshe"
      },
      "outputs": [],
      "source": [
        "# nature of distribution:  decreasing in nature"
      ]
    },
    {
      "cell_type": "code",
      "execution_count": null,
      "metadata": {
        "id": "DY3z-xMkBt1t"
      },
      "outputs": [],
      "source": [
        ""
      ]
    }
  ],
  "metadata": {
    "colab": {
      "collapsed_sections": [],
      "name": "13_LHC_Q4.ipynb",
      "provenance": []
    },
    "kernelspec": {
      "display_name": "Python 3",
      "name": "python3"
    },
    "language_info": {
      "name": "python"
    }
  },
  "nbformat": 4,
  "nbformat_minor": 0
}